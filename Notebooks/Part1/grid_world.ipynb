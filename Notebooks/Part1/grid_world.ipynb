{
 "cells": [
  {
   "cell_type": "markdown",
   "metadata": {},
   "source": [
    "# Solving Finite MDP on grid world using Dynamic Programming\n",
    "\n",
    "### The aim of the gridworld is to get out as soon as possible...\n",
    "\n",
    "With a -1 reward after each step the agent is implied to get out fast, as to maximize score. (minimize negative score)"
   ]
  },
  {
   "cell_type": "code",
   "execution_count": 4,
   "metadata": {},
   "outputs": [],
   "source": [
    "\"\"\"Imports and utilities\"\"\"\n",
    "\n",
    "import matplotlib.pyplot as plt\n",
    "import numpy as np\n",
    "import numpy.random as rnd\n",
    "\n",
    "def heatmap(x, title=''):\n",
    "    fig, ax = plt.subplots(figsize=(7,7))\n",
    "    ax.matshow(x)\n",
    "    for (i, j), z in np.ndenumerate(x):\n",
    "        ax.text(j, i, f'{z:0.2f}', ha='center', va='center')\n",
    "    plt.gca().set_axis_off()\n",
    "    plt.title(title)\n",
    "    plt.show()"
   ]
  },
  {
   "cell_type": "code",
   "execution_count": 5,
   "metadata": {},
   "outputs": [
    {
     "data": {
      "image/png": "[encoded data removed]",
      "text/plain": [
       "<Figure size 432x288 with 1 Axes>"
      ]
     },
     "metadata": {
      "needs_background": "light"
     },
     "output_type": "display_data"
    }
   ],
   "source": [
    "\"\"\"Environment and physics\"\"\"\n",
    "\n",
    "y, x = (3, 7)\n",
    "world = -np.ones((y, x)).astype(int)\n",
    "world[0,1] = world[y-1, x-1] = 0\n",
    "\n",
    "action_space = {\n",
    "    0: (0,1),\n",
    "    1: (1,0),\n",
    "    2: (0,-1),\n",
    "    3: (-1,0)\n",
    "}\n",
    "\n",
    "direction = lambda p, a: (p[0]+a[0], p[1]+a[1])\n",
    "is_legal = lambda m: (m[0]>=0 and m[0]<y) and (m[1]>=0 and m[1]<x)\n",
    "\n",
    "plt.title(\"Grid world represention, yellow = exit\")\n",
    "plt.imshow(world)\n",
    "plt.gca().set_axis_off();"
   ]
  },
  {
   "cell_type": "markdown",
   "metadata": {},
   "source": [
    "# Policies\n",
    "\n",
    "The first policy below results in a biased selection of the first argmax from the states list.\n",
    "\n",
    "Second policy returns the list of max actions, this list can be used in the Bellman equation:\n",
    "- Summation over all prime states\n",
    "- Calculate probability based on $\\frac{1}{length}$ "
   ]
  },
  {
   "cell_type": "code",
   "execution_count": 87,
   "metadata": {},
   "outputs": [],
   "source": [
    "def greedy_policy(s) -> int:\n",
    "    \"\"\" Simply returns the first greedy action from list of actions \"\"\"\n",
    "    actions = [direction(s, a) for a in action_space.values()]\n",
    "    return np.argmax([state_value[s_ if is_legal(s_) else s] for s_ in actions])\n",
    "\n",
    "def greedy_policy_lst(s) -> [int]:\n",
    "    \"\"\" Returns the random selected greedy action and the number of options for probability calc. \"\"\"\n",
    "    actions = [direction(s, a) for a in action_space.values()]\n",
    "    rewards = [(i, state_value[s_ if is_legal(s_) else s]) for i, s_ in enumerate(actions)]\n",
    "    max_ = max(rewards, key=lambda k: k[1])[1]\n",
    "    return list(zip(*filter(lambda f: f[1]==max_, rewards)))[0]"
   ]
  },
  {
   "cell_type": "markdown",
   "metadata": {},
   "source": [
    "# Iterative Policy Evaluation, for estimating $V\\approx v_\\pi$\n",
    "\n",
    "$V(s) = \\sum_{a}\\pi(a|s) \\sum_{s',r}p(s',r|s,a)[r+\\gamma V(s')]$\n",
    "\n",
    "$\\pi(a|s) = \\frac{1}{4}$ -> `1/len(action_space)`\n",
    "\n",
    "$p(s',r|s,a) = 1$ -> deterministic action\n",
    "\n",
    "Therefore $\\sum_{s',r}$ is collapsed to single iteration\n",
    "\n",
    "$r = -1$ -> base rule states every move results in -1\n",
    "\n",
    "Which brings us to:\n",
    "$V(s) = \\sum_{a}\\frac{-1+V(s')}{4}$\n",
    "\n",
    "This is random policy, corners are bad places: \n",
    "- $\\frac{1}{2}$ moves results in -1 but same state"
   ]
  },
  {
   "cell_type": "code",
   "execution_count": 88,
   "metadata": {},
   "outputs": [
    {
     "name": "stdout",
     "output_type": "stream",
     "text": [
      "Optimal policy reached after 744 iterations.\n"
     ]
    },
    {
     "data": {
      "image/png": "[encoded data removed]",
      "text/plain": [
       "<Figure size 504x504 with 1 Axes>"
      ]
     },
     "metadata": {
      "needs_background": "light"
     },
     "output_type": "display_data"
    }
   ],
   "source": [
    "state_value = np.zeros_like(world).astype(float)\n",
    "\n",
    "idx = 0\n",
    "while True:\n",
    "    delta = []\n",
    "    state_value_ = np.copy(state_value)\n",
    "    for s, val in np.ndenumerate(world):\n",
    "        if val == 0: continue\n",
    "        actions = [direction(s, a) for a in action_space.values()]\n",
    "        state_value_[s] = sum([\n",
    "            0.25 * (-1 + state_value[s_ if is_legal(s_) else s])\n",
    "            for s_ in actions\n",
    "        ])        \n",
    "        delta.append(np.abs(state_value[s] -state_value_[s]))\n",
    "        \n",
    "    idx += 1\n",
    "    state_value = state_value_\n",
    "    if np.mean(delta) < 1e-20: break\n",
    "        \n",
    "print(f\"Optimal policy reached after {idx} iterations.\")\n",
    "heatmap(state_value, \"State-Value\")"
   ]
  },
  {
   "cell_type": "markdown",
   "metadata": {},
   "source": [
    "# Policy Iteration (using iterative policy evaluation) for estimating $\\pi\\approx\\pi_*$\n",
    "\n",
    "$V(s) = \\sum_{s',r} p(s',r|s,\\pi(s))[r+\\gamma V(s')]$\n",
    "\n",
    "$p(s',r|s,\\pi(s)) = \\frac{1}{n}$ given n = number of greedy actions\n",
    "\n",
    "\n",
    "\n",
    "$\\pi(s) = argmax_a\\sum_{s',r} p(s',r|s,a)[r+\\gamma V(s')]$\n",
    "\n"
   ]
  },
  {
   "cell_type": "code",
   "execution_count": 89,
   "metadata": {
    "scrolled": false
   },
   "outputs": [
    {
     "name": "stdout",
     "output_type": "stream",
     "text": [
      "Optimal Policy reached after 4 iterations\n"
     ]
    },
    {
     "data": {
      "image/png": "[encoded data removed]",
      "text/plain": [
       "<Figure size 504x504 with 1 Axes>"
      ]
     },
     "metadata": {
      "needs_background": "light"
     },
     "output_type": "display_data"
    }
   ],
   "source": [
    "state_value = np.zeros_like(world).astype(float)\n",
    "\n",
    "while True:\n",
    "    idx = 0\n",
    "    while True:\n",
    "        delta = []\n",
    "        state_value_ = np.copy(state_value)\n",
    "        for s, val in np.ndenumerate(world):\n",
    "            if val == 0: continue\n",
    "            actions = greedy_policy_lst(s)\n",
    "            states = list(map(lambda a: direction(s, action_space[a]), actions))\n",
    "            state_value_[s] = sum([\n",
    "                (1/len(actions)) * (-1 + state_value[s_ if is_legal(s_) else s])\n",
    "                for s_ in states\n",
    "            ])\n",
    "            delta.append(np.abs(state_value[s] -state_value_[s]))\n",
    "            \n",
    "        idx += 1\n",
    "        state_value = state_value_\n",
    "        if np.mean(delta) < 1e-20: break\n",
    "\n",
    "    stable = True\n",
    "    for s, val in np.ndenumerate(world):\n",
    "        a_curr = greedy_policy(s)\n",
    "        actions = [direction(s, a) for a in action_space.values()]\n",
    "        a = np.argmax([-1 + state_value[s_ if is_legal(s_) else s] for s_ in actions])\n",
    "        if a_curr != a:\n",
    "            stable = False\n",
    "            \n",
    "    print(\"Optimal\" if stable else \"Sub-optimal\", f\"Policy reached after {idx} iterations\")\n",
    "    heatmap(state_value, \"State-Value\")\n",
    "    if stable: break"
   ]
  },
  {
   "cell_type": "markdown",
   "metadata": {},
   "source": [
    "During my initial mockup of this algorithm I mistook $p(s',r|s,\\pi(s))=1$ assuming $a=\\pi(s)$ was already decided.\n",
    "\n",
    "This led to the discovery that omitting the summation $\\sum_{s',r}$ resulted in the same state-value mapping.\n",
    "\n",
    "Since the reward is static $\\sum_{s',r} \\frac{1}{n}[r+\\gamma V(s')]$ in this case works out to be $r+\\gamma V(s')$.\n"
   ]
  },
  {
   "cell_type": "code",
   "execution_count": 90,
   "metadata": {
    "scrolled": false
   },
   "outputs": [
    {
     "name": "stdout",
     "output_type": "stream",
     "text": [
      "Optimal Policy reached after 4 iterations\n"
     ]
    },
    {
     "data": {
      "image/png": "[encoded data removed]",
      "text/plain": [
       "<Figure size 504x504 with 1 Axes>"
      ]
     },
     "metadata": {
      "needs_background": "light"
     },
     "output_type": "display_data"
    }
   ],
   "source": [
    "state_value = np.zeros_like(world).astype(float)\n",
    "\n",
    "while True:\n",
    "    idx = 0\n",
    "    while True:\n",
    "        delta = []\n",
    "        state_value_ = np.copy(state_value)\n",
    "        for s, val in np.ndenumerate(world):\n",
    "            if val == 0: continue\n",
    "            a = greedy_policy(s)\n",
    "            s_ = direction(s, action_space[a])\n",
    "            state_value_[s] = -1 + state_value[s_ if is_legal(s_) else s]\n",
    "            delta.append(np.abs(state_value[s] -state_value_[s]))\n",
    "            \n",
    "        idx += 1\n",
    "        state_value = state_value_\n",
    "        if np.mean(delta) < 1e-20: break\n",
    "\n",
    "    stable = True\n",
    "    for s, val in np.ndenumerate(world):\n",
    "        a_curr = greedy_policy(s)\n",
    "        actions = [direction(s, a) for a in action_space.values()]\n",
    "        a = np.argmax([-1 + state_value[s_ if is_legal(s_) else s] for s_ in actions])\n",
    "        if a_curr != a: stable = False\n",
    "    \n",
    "    print(\"Optimal\" if stable else \"Sub-optimal\", f\"Policy reached after {idx} iterations\")\n",
    "    heatmap(state_value, \"State-Value\")\n",
    "    if stable: break"
   ]
  },
  {
   "cell_type": "markdown",
   "metadata": {},
   "source": [
    "# Value Iteration, for estimating $\\pi\\approx\\pi_*$\n",
    "\n",
    "$v_{k+1}(s)=max_a \\sum_{s',r}p(s',r|s,a)[r+\\gamma v_k(s)]$"
   ]
  },
  {
   "cell_type": "code",
   "execution_count": 6,
   "metadata": {},
   "outputs": [
    {
     "name": "stdout",
     "output_type": "stream",
     "text": [
      "Optimal policy reached after 4 iterations.\n"
     ]
    },
    {
     "data": {
      "image/png": "[encoded data removed]",
      "text/plain": [
       "<Figure size 504x504 with 1 Axes>"
      ]
     },
     "metadata": {
      "needs_background": "light"
     },
     "output_type": "display_data"
    }
   ],
   "source": [
    "state_value = np.zeros_like(world).astype(float)\n",
    "\n",
    "idx = 0\n",
    "while True:\n",
    "    delta = []\n",
    "    state_value_ = np.copy(state_value)\n",
    "    for s, val in np.ndenumerate(world):\n",
    "        if val == 0: continue\n",
    "        actions = [direction(s, a) for a in action_space.values()]\n",
    "        state_value_[s] = max([-1 + state_value[s_ if is_legal(s_) else s] for s_ in actions])\n",
    "        delta.append(np.abs(state_value[s] -state_value_[s]))\n",
    "\n",
    "    idx += 1\n",
    "    state_value = state_value_\n",
    "    if np.mean(delta) < 1e-20: break\n",
    "\n",
    "print(f\"Optimal policy reached after {idx} iterations.\")\n",
    "heatmap(state_value, \"State-Value\")"
   ]
  }
 ],
 "metadata": {
  "kernelspec": {
   "display_name": "Python 3",
   "language": "python",
   "name": "python3"
  },
  "language_info": {
   "codemirror_mode": {
    "name": "ipython",
    "version": 3
   },
   "file_extension": ".py",
   "mimetype": "text/x-python",
   "name": "python",
   "nbconvert_exporter": "python",
   "pygments_lexer": "ipython3",
   "version": "3.8.5"
  }
 },
 "nbformat": 4,
 "nbformat_minor": 4
}
