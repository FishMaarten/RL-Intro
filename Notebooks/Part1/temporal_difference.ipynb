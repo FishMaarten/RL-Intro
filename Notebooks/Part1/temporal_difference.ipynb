{
 "cells": [
  {
   "cell_type": "code",
   "execution_count": 1,
   "metadata": {},
   "outputs": [],
   "source": [
    "\"\"\" Imports \"\"\"\n",
    "\n",
    "import numpy as np\n",
    "import random as rnd\n",
    "import matplotlib.pyplot as plt\n",
    "\n",
    "plt.style.use(\"seaborn\")"
   ]
  },
  {
   "cell_type": "markdown",
   "metadata": {},
   "source": [
    "# Tabular TD(0) for estimating $v_π$\n",
    "\n",
    "Todo: Example 6.2 statistics"
   ]
  },
  {
   "cell_type": "code",
   "execution_count": 89,
   "metadata": {},
   "outputs": [],
   "source": [
    "state_space = list(range(-3, 4))\n",
    "action_space = [-1, 1]\n",
    "reward_space = {0:  -1, len(state_space) -1: 1}\n",
    "state_values = np.zeros(len(state_space))\n",
    "\n",
    "is_legal = lambda s: s >= 0 and s < len(state_space)\n",
    "def policy(state:int, eps=0.5) -> int:\n",
    "    if 1-eps < rnd.random(): return rnd.choice(list(action_space))\n",
    "    return action_space[np.argmax([state_values[state + a] for a in action_space if is_legal(state + a)])]\n",
    "\n",
    "def get_reward(state:int) -> int:\n",
    "    return 0 if state not in list(reward_space) else reward_space[state]"
   ]
  },
  {
   "cell_type": "code",
   "execution_count": 90,
   "metadata": {},
   "outputs": [
    {
     "name": "stdout",
     "output_type": "stream",
     "text": [
      "State_space: [-3, -2, -1, 0, 1, 2, 3]\n",
      "Action_space: [-1, 1]\n",
      "Reward_space: {0: -1, 6: 1}\n",
      "State_values: [0. 0. 0. 0. 0. 0. 0.]\n"
     ]
    }
   ],
   "source": [
    "\"\"\" Chickity-check yo self before you wreck yo self \"\"\"\n",
    "\n",
    "print(\"State_space:\", state_space)\n",
    "print(\"Action_space:\", action_space)\n",
    "print(\"Reward_space:\", reward_space)\n",
    "print(\"State_values:\", state_values)"
   ]
  },
  {
   "cell_type": "code",
   "execution_count": 96,
   "metadata": {},
   "outputs": [
    {
     "name": "stdout",
     "output_type": "stream",
     "text": [
      "State-values:  [-0.53566, 2.33241, 5.86451, 7.83877, 8.84787, 9.52425, 9.2258]\n"
     ]
    }
   ],
   "source": [
    "alpha = 2e-3\n",
    "gamma = 1\n",
    "\n",
    "for episode in range(int(1e4)):\n",
    "    state = state_space.index(0)\n",
    "    while True:          \n",
    "        action = policy(state)\n",
    "        next_s = state + action if is_legal(state + action) else state\n",
    "        reward = get_reward(next_s)\n",
    "        \n",
    "        state_values[state] += alpha * (reward + gamma*state_values[next_s] - state_values[state])\n",
    "        \n",
    "        if state in list(reward_space): break\n",
    "        state = next_s\n",
    "        \n",
    "print(\"State-values: \", [round(val, 5) for val in state_values])"
   ]
  },
  {
   "cell_type": "markdown",
   "metadata": {},
   "source": [
    "**Currently accumilates massive state values over time, properly converges with $\\gamma < 1$**"
   ]
  },
  {
   "cell_type": "code",
   "execution_count": 93,
   "metadata": {},
   "outputs": [
    {
     "name": "stdout",
     "output_type": "stream",
     "text": [
      "{'State': 3, 'Action': 1, 'Reward': 0, 'Next state': 4}\n",
      "{'State': 4, 'Action': 1, 'Reward': 0, 'Next state': 5}\n",
      "{'State': 5, 'Action': 1, 'Reward': 1, 'Next state': 6}\n"
     ]
    }
   ],
   "source": [
    "state = state_space.index(0)\n",
    "\n",
    "while state not in list(reward_space):\n",
    "    action = policy(state, 0)\n",
    "    next_s = state + action\n",
    "    reward = get_reward(next_s)\n",
    "    \n",
    "    print({\n",
    "        \"State\": state,\n",
    "        \"Action\": action, \n",
    "        \"Reward\": reward,\n",
    "        \"Next state\": next_s\n",
    "    })\n",
    "    \n",
    "    state = next_s"
   ]
  },
  {
   "cell_type": "markdown",
   "metadata": {},
   "source": [
    "**Cleaner revisioned code, closely mirrors pseudo code**"
   ]
  },
  {
   "cell_type": "code",
   "execution_count": 95,
   "metadata": {},
   "outputs": [
    {
     "name": "stdout",
     "output_type": "stream",
     "text": [
      "State-values:  [0.0, -0.65922, -0.32311, -0.02587, 0.32737, 0.66922, 0.0]\n"
     ]
    }
   ],
   "source": [
    "def step(state, action):\n",
    "    next_s = state + action if is_legal(state + action) else state\n",
    "    reward = get_reward(next_s)\n",
    "    return next_s, reward\n",
    "\n",
    "state_values = np.zeros(len(state_space))\n",
    "\n",
    "for episode in range(int(1e4)):\n",
    "    state = state_space.index(0)\n",
    "    while state not in reward_space.keys():\n",
    "        action = policy(state, eps=1)\n",
    "        next_s, reward = step(state, action)\n",
    "        state_values[state] += alpha * (reward + gamma * state_values[next_s] - state_values[state])\n",
    "        state = next_s\n",
    "        \n",
    "print(\"State-values: \", [round(val, 5) for val in state_values])"
   ]
  },
  {
   "cell_type": "markdown",
   "metadata": {},
   "source": [
    "# Arrow code for policy visualisation"
   ]
  },
  {
   "cell_type": "code",
   "execution_count": 153,
   "metadata": {},
   "outputs": [],
   "source": [
    "arrows = {\n",
    "    # RIGHT\n",
    "    0: [[(0,0),(0,.4)],\n",
    "        [(.1,0),(.2,.4)],\n",
    "        [(-.1,0),(.2,.4)]],\n",
    "    # DOWN\n",
    "    1: [[(0,.4),(0,0)],\n",
    "        [(.4,.2),(0,.1)],\n",
    "        [(.4,.2),(0,-.1)]],\n",
    "    # LEFT\n",
    "    2: [[(0,0),(0,-.4)],\n",
    "        [(.1,0),(-.2,-.4)],\n",
    "        [(-.1,0),(-.2,-.4)]],\n",
    "    # UP\n",
    "    3: [[(0,-.4),(0,0)],\n",
    "        [(-.4,-.2),(0,.1)],\n",
    "        [(-.4,-.2),(0,-.1)]],\n",
    "}\n",
    "\n",
    "offset = lambda point, val: (point[0]+val, point[1]+val)\n",
    "def draw_arrow(direction:int, position:tuple, color=\"r\") -> None:\n",
    "    x = list(map(lambda m: offset(m, position[0]), list(zip(*arrows[direction]))[0]))\n",
    "    y = list(map(lambda m: offset(m, position[1]), list(zip(*arrows[direction]))[1]))\n",
    "    [plt.plot(*line, c=color) for line in list(zip(y, x))]"
   ]
  },
  {
   "cell_type": "markdown",
   "metadata": {},
   "source": [
    "# Sarsa (on-policy TD control) for estimating $Q=q_*$ "
   ]
  },
  {
   "cell_type": "markdown",
   "metadata": {},
   "source": [
    "$Q(S_t, A_t) \\leftarrow Q(S_t, A_t) + \\alpha[R_{t+1} + \\gamma Q(S_{t+1}, A_{t+1}) - Q(S_t, A_t)]$"
   ]
  },
  {
   "cell_type": "code",
   "execution_count": 302,
   "metadata": {},
   "outputs": [],
   "source": [
    "size_y, size_x = 7, 10\n",
    "world = np.zeros((size_y, size_x))\n",
    "world[3, 0], world[3, 7]  = 1, 2\n",
    "cross_wind = [0,0,0,1,1,1,2,2,1,0]\n",
    "\n",
    "action_space = {\n",
    "    0: (0,1),  # RIGHT\n",
    "    1: (1,0),  # DOWN\n",
    "    2: (0,-1), # LEFT\n",
    "    3: (-1,0)  # UP\n",
    "}\n",
    "\n",
    "direction = lambda s, a: (s[0]+a[0], s[1]+a[1])\n",
    "is_legal = lambda m: (m[0]>=0 and m[0]<size_y) and (m[1]>=0 and m[1]<size_x)"
   ]
  },
  {
   "cell_type": "code",
   "execution_count": 303,
   "metadata": {},
   "outputs": [
    {
     "data": {
      "image/png": "[encoded data removed]",
      "text/plain": [
       "<Figure size 576x396 with 1 Axes>"
      ]
     },
     "metadata": {},
     "output_type": "display_data"
    }
   ],
   "source": [
    "plt.imshow(world + np.tile(cross_wind, 7).reshape((7, -1)))\n",
    "plt.title(\"Windy Gridworld\")\n",
    "\n",
    "plt.text(*reversed(np.where(world==1)), \"S\", \n",
    "         fontdict={\"color\":\"k\", \"size\": 18})\n",
    "plt.text(*reversed(np.where(world==2)), \"F\", \n",
    "         fontdict={\"color\":\"w\", \"size\": 18})\n",
    "\n",
    "plt.hlines(-.5,       -.5, size_x-.5, colors=\"k\")\n",
    "plt.hlines(size_y-.5, -.5, size_x-.5, colors=\"k\")\n",
    "plt.vlines(-.5,       -.5, size_y-.5, colors=\"k\")\n",
    "plt.vlines(size_x-.5, -.5, size_y-.5, colors=\"k\")\n",
    "\n",
    "plt.text(4,3, \"WIND!\", fontdict={\"size\":20})\n",
    "\n",
    "[draw_arrow(3, (y, 5), color=\"k\") for y in range(0, size_y, 2)]\n",
    "[draw_arrow(3, (y, 6), color=\"k\") for y in range(0, size_y)]\n",
    "[plt.text(x-.4, 6.4, cross_wind[x]) for x in range(0, size_x)]\n",
    "\n",
    "plt.gca().set_axis_off()"
   ]
  },
  {
   "cell_type": "code",
   "execution_count": 304,
   "metadata": {},
   "outputs": [
    {
     "name": "stdout",
     "output_type": "stream",
     "text": [
      "State-action value optimization is 10% done.\n",
      "State-action value optimization is 20% done.\n",
      "State-action value optimization is 30% done.\n",
      "State-action value optimization is 40% done.\n",
      "State-action value optimization is 50% done.\n",
      "State-action value optimization is 60% done.\n",
      "State-action value optimization is 70% done.\n",
      "State-action value optimization is 80% done.\n",
      "State-action value optimization is 90% done.\n",
      "State-action value optimization is 100% done.\n"
     ]
    }
   ],
   "source": [
    "def policy(Q:np.ndarray, state:tuple, eps=0.5) -> int:\n",
    "    if 1-eps < rnd.random():\n",
    "        return rnd.choice(list(action_space))\n",
    "    return np.argmax(Q, 0)[state]\n",
    "\n",
    "def sarsa(Q:np.ndarray, s, a, r, s_, a_) -> float:\n",
    "    curr_sa, next_sa = Q[a][s], Q[a_][s_]\n",
    "    return curr_sa + alpha * (r + gamma*next_sa - curr_sa)\n",
    "\n",
    "alpha =   0.5\n",
    "epsilon = 0.33\n",
    "gamma =   0.9\n",
    "\n",
    "state_action_value = np.zeros((len(action_space), size_y, size_x))\n",
    "\n",
    "num_games = int(1e6)\n",
    "for episode in range(1, num_games +1):\n",
    "    state = tuple(map(int, np.where(world==1)))\n",
    "    action = policy(state_action_value, state, epsilon)\n",
    "    \n",
    "    while state != np.where(world==2):\n",
    "        move = direction(state, action_space[action])\n",
    "        next_s = move if is_legal(move) else state\n",
    "        next_s = (max(0, next_s[0]-cross_wind[state[1]]), next_s[1])\n",
    "        reward = -1\n",
    "        \n",
    "        next_a = policy(state_action_value, next_s, epsilon)\n",
    "        \n",
    "        state_action_value[action][state] = sarsa(state_action_value,\n",
    "                                                  state, action, reward, next_s, next_a)\n",
    "        state, action = next_s, next_a\n",
    "    \n",
    "    if episode % (num_games//10) == 0:\n",
    "        print(f\"State-action value optimization is {episode / num_games:.0%} done.\")"
   ]
  },
  {
   "cell_type": "code",
   "execution_count": 305,
   "metadata": {},
   "outputs": [],
   "source": [
    "state = tuple(map(int, np.where(world==1)))\n",
    "path = [state]\n",
    "\n",
    "while state != np.where(world==2):\n",
    "    action = np.argmax(state_action_value, 0)[state]\n",
    "    move = direction(state, action_space[action])\n",
    "    next_s = move if is_legal(move) else state\n",
    "    next_s = (max(0, next_s[0]-cross_wind[state[1]]), next_s[1])\n",
    "    \n",
    "    state = next_s\n",
    "    path.append(state)"
   ]
  },
  {
   "cell_type": "code",
   "execution_count": 308,
   "metadata": {},
   "outputs": [
    {
     "data": {
      "image/png": "[encoded data removed]",
      "text/plain": [
       "<Figure size 576x396 with 1 Axes>"
      ]
     },
     "metadata": {},
     "output_type": "display_data"
    }
   ],
   "source": [
    "plt.imshow(world + np.tile(cross_wind, 7).reshape((7, -1)))\n",
    "plt.title(\"Windy Gridworld 'SARSA' policy\")\n",
    "\n",
    "plt.hlines(-.5,       -.5, size_x-.5, colors=\"k\")\n",
    "plt.hlines(size_y-.5, -.5, size_x-.5, colors=\"k\")\n",
    "plt.vlines(-.5,       -.5, size_y-.5, colors=\"k\")\n",
    "plt.vlines(size_x-.5, -.5, size_y-.5, colors=\"k\")\n",
    "\n",
    "plt.plot(*reversed(list(zip(*path))), lw=16)\n",
    "\n",
    "for (y, x), val in np.ndenumerate(np.argmax(state_action_value, 0)):\n",
    "    draw_arrow(val, (y, x))\n",
    "    \n",
    "plt.gca().set_axis_off()"
   ]
  },
  {
   "cell_type": "markdown",
   "metadata": {},
   "source": [
    "# Cliff Walking world "
   ]
  },
  {
   "cell_type": "code",
   "execution_count": 333,
   "metadata": {},
   "outputs": [],
   "source": [
    "size_y, size_x = 4, 10\n",
    "world = np.zeros((size_y, size_x))\n",
    "world[3, 0], world[3, 9]  = 1, 2\n",
    "world[3, 1:-1] = -1"
   ]
  },
  {
   "cell_type": "code",
   "execution_count": 334,
   "metadata": {},
   "outputs": [
    {
     "data": {
      "image/png": "[encoded data removed]",
      "text/plain": [
       "<Figure size 576x396 with 1 Axes>"
      ]
     },
     "metadata": {},
     "output_type": "display_data"
    }
   ],
   "source": [
    "plt.imshow(world)\n",
    "plt.title(\"Cliff Walking\")\n",
    "plt.text(*reversed(np.where(world==1)), \"S\", \n",
    "         fontdict={\"color\":\"k\", \"size\": 18})\n",
    "plt.text(*reversed(np.where(world==2)), \"F\", \n",
    "         fontdict={\"color\":\"w\", \"size\": 18})\n",
    "\n",
    "plt.hlines(-.5,       -.5, size_x-.5, colors=\"k\")\n",
    "plt.hlines(size_y-.5, -.5, size_x-.5, colors=\"k\")\n",
    "plt.vlines(-.5,       -.5, size_y-.5, colors=\"k\")\n",
    "plt.vlines(size_x-.5, -.5, size_y-.5, colors=\"k\")\n",
    "\n",
    "plt.text(3.3, 3, \"DEATH: -100\", fontdict={\"size\":20})\n",
    "\n",
    "plt.gca().set_axis_off()"
   ]
  },
  {
   "cell_type": "markdown",
   "metadata": {},
   "source": [
    "# Q-learning: Off-policy TD Control"
   ]
  },
  {
   "cell_type": "code",
   "execution_count": 251,
   "metadata": {},
   "outputs": [],
   "source": [
    "def q_learning(Q, s, a, r, s_) -> float:\n",
    "    curr_sa = Q[a][s]\n",
    "    max_a = max(Q[a_][s_] for a_ in action_space)\n",
    "    \n",
    "    return curr_sa + alpha * (r + (gamma*max_a) - curr_sa)"
   ]
  },
  {
   "cell_type": "markdown",
   "metadata": {},
   "source": [
    "$Q(S_t, A_t) \\leftarrow Q(S_t, A_t) + \\alpha[R_{t+1} + \\gamma max_a Q(S_{t+1}, a) - Q(S_t, A_t)]$"
   ]
  },
  {
   "cell_type": "code",
   "execution_count": 224,
   "metadata": {},
   "outputs": [
    {
     "name": "stdout",
     "output_type": "stream",
     "text": [
      "State-action value optimization is 10% done.\n",
      "State-action value optimization is 20% done.\n",
      "State-action value optimization is 30% done.\n",
      "State-action value optimization is 40% done.\n",
      "State-action value optimization is 50% done.\n",
      "State-action value optimization is 60% done.\n",
      "State-action value optimization is 70% done.\n",
      "State-action value optimization is 80% done.\n",
      "State-action value optimization is 90% done.\n",
      "State-action value optimization is 100% done.\n"
     ]
    }
   ],
   "source": [
    "alpha =   0.5\n",
    "epsilon = 0.33\n",
    "gamma =   0.9\n",
    "\n",
    "state_action_value = np.random.random((len(action_space), size_y, size_x))\n",
    "for a in range(4): state_action_value[a][np.where(world==2)] = 0\n",
    "    \n",
    "num_games = int(1e5)\n",
    "for episode in range(1, num_games +1):\n",
    "    state = tuple(map(int, np.where(world==1)))\n",
    "    \n",
    "    while state != np.where(world==2):\n",
    "        action = policy(state_action_value, state, epsilon)\n",
    "        move = direction(state, action_space[action])\n",
    "        next_s = move if is_legal(move) else state\n",
    "        \n",
    "        if next_s in [(3, x) for x in range(1, 9)]:\n",
    "            reward = -100\n",
    "            next_s = tuple(map(int, np.where(world==1)))\n",
    "        else:\n",
    "            reward = -1\n",
    "        \n",
    "        state_action_value[action][state] = q_learning(state_action_value,\n",
    "                                                       state, action, reward, next_s)\n",
    "        state = next_s\n",
    "        \n",
    "    if episode % (num_games//10) == 0:\n",
    "        print(f\"State-action value optimization is {episode / num_games:.0%} done.\")"
   ]
  },
  {
   "cell_type": "code",
   "execution_count": 225,
   "metadata": {},
   "outputs": [],
   "source": [
    "state = tuple(map(int, np.where(world==1)))\n",
    "path = [state]\n",
    "\n",
    "while state != np.where(world==2):\n",
    "    action = np.argmax(state_action_value, 0)[state]\n",
    "    move = direction(state, action_space[action])\n",
    "    next_s = move if is_legal(move) else state\n",
    "    if next_s in [(3, x) for x in range(1, 9)]:\n",
    "        next_s = tuple(map(int, np.where(world==1)))\n",
    "        \n",
    "    state = next_s\n",
    "    path.append(state)"
   ]
  },
  {
   "cell_type": "code",
   "execution_count": 226,
   "metadata": {},
   "outputs": [
    {
     "data": {
      "image/png": "[encoded data removed]",
      "text/plain": [
       "<Figure size 576x396 with 1 Axes>"
      ]
     },
     "metadata": {},
     "output_type": "display_data"
    }
   ],
   "source": [
    "plt.imshow(world)\n",
    "plt.title(\"Cliff Walking 'Q-learning' Policy\")\n",
    "\n",
    "plt.hlines(-.5,       -.5, size_x-.5, colors=\"k\")\n",
    "plt.hlines(size_y-.5, -.5, size_x-.5, colors=\"k\")\n",
    "plt.vlines(-.5,       -.5, size_y-.5, colors=\"k\")\n",
    "plt.vlines(size_x-.5, -.5, size_y-.5, colors=\"k\")\n",
    "\n",
    "plt.plot(*reversed(list(zip(*path))), lw=16)\n",
    "\n",
    "for (y, x), val in np.ndenumerate(np.argmax(state_action_value, 0)):\n",
    "    draw_arrow(val, (y, x))\n",
    "\n",
    "plt.gca().set_axis_off()"
   ]
  },
  {
   "cell_type": "markdown",
   "metadata": {},
   "source": [
    "### Q-learning agent likes to live on the edge, let's see how SARSA plans to reach the exit."
   ]
  },
  {
   "cell_type": "code",
   "execution_count": 297,
   "metadata": {},
   "outputs": [
    {
     "name": "stdout",
     "output_type": "stream",
     "text": [
      "State-action value optimization is 10% done.\n",
      "State-action value optimization is 20% done.\n",
      "State-action value optimization is 30% done.\n",
      "State-action value optimization is 40% done.\n",
      "State-action value optimization is 50% done.\n",
      "State-action value optimization is 60% done.\n",
      "State-action value optimization is 70% done.\n",
      "State-action value optimization is 80% done.\n",
      "State-action value optimization is 90% done.\n",
      "State-action value optimization is 100% done.\n"
     ]
    }
   ],
   "source": [
    "alpha =   0.5\n",
    "epsilon = 0.33\n",
    "gamma =   0.9\n",
    "\n",
    "state_action_value = np.zeros((len(action_space), size_y, size_x))\n",
    "\n",
    "num_games = int(1e6)\n",
    "for episode in range(1, num_games +1):\n",
    "    state = tuple(map(int, np.where(world==1)))\n",
    "    action = policy(state_action_value, state, epsilon)\n",
    "    \n",
    "    while state != np.where(world==2):\n",
    "        move = direction(state, action_space[action])\n",
    "        next_s = move if is_legal(move) else state\n",
    "        \n",
    "        if next_s in [(3, x) for x in range(1, 9)]:\n",
    "            next_s = tuple(map(int, np.where(world==1)))\n",
    "            reward = -100\n",
    "        else:\n",
    "            reward = -1\n",
    "        \n",
    "        next_a = policy(state_action_value, next_s, epsilon)\n",
    "        \n",
    "        state_action_value[action][state] = sarsa(state_action_value,\n",
    "                                                  state, action, reward, next_s, next_a)\n",
    "        state, action = next_s, next_a\n",
    "    \n",
    "    if episode % (num_games//10) == 0:\n",
    "        print(f\"State-action value optimization is {episode / num_games:.0%} done.\")"
   ]
  },
  {
   "cell_type": "code",
   "execution_count": 300,
   "metadata": {},
   "outputs": [],
   "source": [
    "state = tuple(map(int, np.where(world==1)))\n",
    "path = [state]\n",
    "\n",
    "while state != np.where(world==2):\n",
    "    action = np.argmax(state_action_value, 0)[state]\n",
    "    move = direction(state, action_space[action])\n",
    "    next_s = move if is_legal(move) else state\n",
    "    if next_s in [(3, x) for x in range(1, 9)]:\n",
    "        next_s = tuple(map(int, np.where(world==1)))\n",
    "        \n",
    "    state = next_s\n",
    "    path.append(state)"
   ]
  },
  {
   "cell_type": "code",
   "execution_count": 301,
   "metadata": {},
   "outputs": [
    {
     "data": {
      "image/png": "[encoded data removed]",
      "text/plain": [
       "<Figure size 576x396 with 1 Axes>"
      ]
     },
     "metadata": {},
     "output_type": "display_data"
    }
   ],
   "source": [
    "plt.imshow(world)\n",
    "plt.title(\"Cliff Walking 'SARSA' Policy\")\n",
    "\n",
    "plt.hlines(-.5,       -.5, size_x-.5, colors=\"k\")\n",
    "plt.hlines(size_y-.5, -.5, size_x-.5, colors=\"k\")\n",
    "plt.vlines(-.5,       -.5, size_y-.5, colors=\"k\")\n",
    "plt.vlines(size_x-.5, -.5, size_y-.5, colors=\"k\")\n",
    "\n",
    "plt.plot(*reversed(list(zip(*path))), lw=16)\n",
    "\n",
    "for (y, x), val in np.ndenumerate(np.argmax(state_action_value, 0)):\n",
    "    draw_arrow(val, (y, x))\n",
    "\n",
    "plt.gca().set_axis_off()"
   ]
  },
  {
   "cell_type": "markdown",
   "metadata": {},
   "source": [
    "### Although Q-learning agent optimises a lot faster than SARSA, \n",
    "### in this Cliff Walking example, SARSA doesn't risk the heavy penalty for falling off."
   ]
  },
  {
   "cell_type": "markdown",
   "metadata": {},
   "source": [
    "# Double Q-learning, for estimating $Q_1 \\approx Q_2 \\approx q*$"
   ]
  },
  {
   "cell_type": "markdown",
   "metadata": {},
   "source": [
    "$Q_1(S_t, A_t) \\leftarrow Q_1(S_t, A_t) + \\alpha[R_{t+1} + \\gamma Q_2(S_{t+1}, argmax_a Q_1(S_{t+1}, a))) - Q_1(S_t, A_t))]$\n",
    "\n",
    "$Q_2(S_t, A_t) \\leftarrow Q_2(S_t, A_t) + \\alpha[R_{t+1} + \\gamma Q_1(S_{t+1}, argmax_a Q_2(S_{t+1}, a))) - Q_2(S_t, A_t))]$"
   ]
  },
  {
   "cell_type": "code",
   "execution_count": 335,
   "metadata": {},
   "outputs": [],
   "source": [
    "def double_q_learning(Q_1, Q_2 , s, a, r, s_) -> float:\n",
    "    curr_sa = Q_1[a][s]\n",
    "    a_ = np.argmax(Q_1, 0)[s_]\n",
    "    next_sa = Q_2[a_][s_]\n",
    "    \n",
    "    return curr_sa + alpha * (r + (gamma*next_sa) - curr_sa)"
   ]
  },
  {
   "cell_type": "code",
   "execution_count": 336,
   "metadata": {},
   "outputs": [
    {
     "name": "stdout",
     "output_type": "stream",
     "text": [
      "State-action value optimization is 10% done.\n",
      "State-action value optimization is 20% done.\n",
      "State-action value optimization is 30% done.\n",
      "State-action value optimization is 40% done.\n",
      "State-action value optimization is 50% done.\n",
      "State-action value optimization is 60% done.\n",
      "State-action value optimization is 70% done.\n",
      "State-action value optimization is 80% done.\n",
      "State-action value optimization is 90% done.\n",
      "State-action value optimization is 100% done.\n"
     ]
    }
   ],
   "source": [
    "alpha =   0.5\n",
    "epsilon = 0.33\n",
    "gamma =   0.9\n",
    "\n",
    "state_action_value_1 = np.zeros((len(action_space), size_y, size_x))\n",
    "state_action_value_2 = np.zeros((len(action_space), size_y, size_x))\n",
    "    \n",
    "num_games = int(1e4)\n",
    "for episode in range(1, num_games +1):\n",
    "    state = tuple(map(int, np.where(world==1)))\n",
    "    \n",
    "    while state != np.where(world==2):\n",
    "        action = policy(state_action_value_1 + state_action_value_2, state, epsilon)\n",
    "        move = direction(state, action_space[action])\n",
    "        next_s = move if is_legal(move) else state\n",
    "        \n",
    "        if next_s in [(3, x) for x in range(1, 9)]:\n",
    "            reward = -100\n",
    "            next_s = tuple(map(int, np.where(world==1)))\n",
    "        else:\n",
    "            reward = -1\n",
    "            \n",
    "        if rnd.random() > 0.5:\n",
    "            state_action_value_1[action][state] = double_q_learning(\n",
    "                state_action_value_1, state_action_value_2, \n",
    "                state, action, reward, next_s\n",
    "            )\n",
    "        else:\n",
    "            state_action_value_2[action][state] = double_q_learning(\n",
    "                state_action_value_2, state_action_value_1, \n",
    "                state, action, reward, next_s\n",
    "            )\n",
    "            \n",
    "        state = next_s\n",
    "        \n",
    "    if episode % (num_games//10) == 0:\n",
    "        print(f\"State-action value optimization is {episode//(num_games//100)}% done.\")"
   ]
  },
  {
   "cell_type": "code",
   "execution_count": 337,
   "metadata": {},
   "outputs": [],
   "source": [
    "state = tuple(map(int, np.where(world==1)))\n",
    "path = [state]\n",
    "\n",
    "while state != np.where(world==2):\n",
    "    action = np.argmax(state_action_value_1 + state_action_value_2, 0)[state]\n",
    "    move = direction(state, action_space[action])\n",
    "    next_s = move if is_legal(move) else state\n",
    "    if next_s in [(3, x) for x in range(1, 9)]:\n",
    "        next_s = tuple(map(int, np.where(world==1)))\n",
    "        \n",
    "    state = next_s\n",
    "    path.append(state)"
   ]
  },
  {
   "cell_type": "code",
   "execution_count": 340,
   "metadata": {},
   "outputs": [
    {
     "data": {
      "image/png": "[encoded data removed]",
      "text/plain": [
       "<Figure size 576x396 with 1 Axes>"
      ]
     },
     "metadata": {},
     "output_type": "display_data"
    }
   ],
   "source": [
    "plt.imshow(world)\n",
    "plt.title(\"Cliff Walking 'Double Q-learning' Policy\")\n",
    "\n",
    "plt.hlines(-.5,       -.5, size_x-.5, colors=\"k\")\n",
    "plt.hlines(size_y-.5, -.5, size_x-.5, colors=\"k\")\n",
    "plt.vlines(-.5,       -.5, size_y-.5, colors=\"k\")\n",
    "plt.vlines(size_x-.5, -.5, size_y-.5, colors=\"k\")\n",
    "\n",
    "plt.plot(*reversed(list(zip(*path))), lw=16)\n",
    "\n",
    "for (y, x), val in np.ndenumerate(np.argmax(state_action_value_1 + state_action_value_2, 0)):\n",
    "    draw_arrow(val, (y, x))\n",
    "\n",
    "plt.gca().set_axis_off()"
   ]
  }
 ],
 "metadata": {
  "kernelspec": {
   "display_name": "Python 3",
   "language": "python",
   "name": "python3"
  },
  "language_info": {
   "codemirror_mode": {
    "name": "ipython",
    "version": 3
   },
   "file_extension": ".py",
   "mimetype": "text/x-python",
   "name": "python",
   "nbconvert_exporter": "python",
   "pygments_lexer": "ipython3",
   "version": "3.8.5"
  }
 },
 "nbformat": 4,
 "nbformat_minor": 4
}
