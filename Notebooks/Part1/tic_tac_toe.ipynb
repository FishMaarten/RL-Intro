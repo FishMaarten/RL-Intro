{
 "cells": [
  {
   "cell_type": "markdown",
   "metadata": {},
   "source": [
    "# Q-learning Tic Tac Toe\n",
    "\n",
    "### To test my RL theory so far, I want to create an undefeatable tic-tac-toe-agent."
   ]
  },
  {
   "cell_type": "code",
   "execution_count": 2,
   "metadata": {},
   "outputs": [],
   "source": [
    "\"\"\" Imports \"\"\"\n",
    "\n",
    "import numpy as np\n",
    "import random as rnd\n",
    "import matplotlib.pyplot as plt\n",
    "\n",
    "plt.style.use(\"seaborn\")"
   ]
  },
  {
   "cell_type": "markdown",
   "metadata": {},
   "source": [
    "# Tic-tac-toe 'physics'"
   ]
  },
  {
   "cell_type": "code",
   "execution_count": 3,
   "metadata": {},
   "outputs": [],
   "source": [
    "BOARD = np.array([\n",
    "    [0, 0, 0],\n",
    "    [0, 0, 0],\n",
    "    [0, 0, 0],\n",
    "])\n",
    "\n",
    "action_space = {\n",
    "    action: state\n",
    "    for action, state in enumerate(zip(*np.where(BOARD==0)))\n",
    "}\n",
    "\n",
    "action_lookup = {\n",
    "    state: action\n",
    "    for action, state in action_space.items()\n",
    "}"
   ]
  },
  {
   "cell_type": "code",
   "execution_count": 4,
   "metadata": {},
   "outputs": [
    {
     "data": {
      "image/png": "[encoded data removed]",
      "text/plain": [
       "<Figure size 576x396 with 1 Axes>"
      ]
     },
     "metadata": {},
     "output_type": "display_data"
    }
   ],
   "source": [
    "translate = lambda val: {0:\"\", 1:\"O\", 2:\"X\"}[val]\n",
    "\n",
    "def tic_tac_toe(board: np.ndarray) -> None:\n",
    "    \"\"\" Plot passed board \"\"\"\n",
    "    plt.imshow(np.zeros_like(board))\n",
    "    plt.title(\"Tic Tac Toe\", fontdict={\"size\":18})\n",
    "    plt.hlines(.5, -.5, 2.5, colors=\"k\")\n",
    "    plt.hlines(1.5,-.5, 2.5, colors=\"k\")\n",
    "    plt.vlines(.5, -.5, 2.5, colors=\"k\")\n",
    "    plt.vlines(1.5,-.5, 2.5, colors=\"k\")\n",
    "    \n",
    "    for (y,x), val in np.ndenumerate(board):\n",
    "        plt.text(x-.25, y+.2, translate(val), fontdict={\"size\":64})\n",
    "        \n",
    "    plt.gca().set_axis_off()\n",
    "\n",
    "free_space = lambda board: list(zip(*np.where(board==0)))\n",
    "\n",
    "tic_tac_toe(BOARD)"
   ]
  },
  {
   "cell_type": "markdown",
   "metadata": {},
   "source": [
    "# Pre-calculate state space through randomized games"
   ]
  },
  {
   "cell_type": "code",
   "execution_count": 5,
   "metadata": {},
   "outputs": [
    {
     "name": "stdout",
     "output_type": "stream",
     "text": [
      "Found 6046 unique states\n"
     ]
    }
   ],
   "source": [
    "state_space = {tuple(0 for _ in range(9))}\n",
    "\n",
    "for episode in range(int(1e5)):\n",
    "    board = np.copy(BOARD)\n",
    "    \n",
    "    player = 2\n",
    "    while len(free_space(board)) > 0:\n",
    "        player = 1 if player==2 else 2\n",
    "        state = rnd.choice(free_space(board))\n",
    "        board[state] = player\n",
    "        state_space.add(tuple(board.flatten()))\n",
    "\n",
    "state_space = tuple(sorted(state_space))\n",
    "\n",
    "print(f\"Found {len(state_space)} unique states\")"
   ]
  },
  {
   "cell_type": "markdown",
   "metadata": {},
   "source": [
    "# Possible actions (random and greedy)"
   ]
  },
  {
   "cell_type": "code",
   "execution_count": 6,
   "metadata": {},
   "outputs": [],
   "source": [
    "get_state = lambda flattened: state_space.index(flattened)\n",
    "\n",
    "def policy(Q:np.ndarray, state:tuple, eps=0.5):\n",
    "    possible_actions = list(map(lambda pos: action_lookup[pos], zip(*np.where(board==0))))\n",
    "    if 1-eps < rnd.random(): return rnd.choice(possible_actions)\n",
    "    return possible_actions[np.argmax(Q[state][possible_actions])]"
   ]
  },
  {
   "cell_type": "code",
   "execution_count": 101,
   "metadata": {},
   "outputs": [
    {
     "data": {
      "image/png": "[encoded data removed]",
      "text/plain": [
       "<Figure size 576x396 with 1 Axes>"
      ]
     },
     "metadata": {},
     "output_type": "display_data"
    }
   ],
   "source": [
    "state_action_value = np.random.random((len(state_space), 9))\n",
    "\n",
    "board = np.array(rnd.choice(state_space)).reshape((3,3))\n",
    "state = get_state(tuple(board.flatten()))\n",
    "\n",
    "action = policy(state_action_value, state, 0)\n",
    "\n",
    "tic_tac_toe(board)\n",
    "plt.text(*reversed(action_space[action]), action,\n",
    "         fontdict={\"size\":32}, c=\"r\");"
   ]
  },
  {
   "cell_type": "markdown",
   "metadata": {},
   "source": [
    "# Win condition"
   ]
  },
  {
   "cell_type": "code",
   "execution_count": 102,
   "metadata": {},
   "outputs": [],
   "source": [
    "def win_condition(board:np.ndarray) -> int:\n",
    "    for idx in range(3):\n",
    "        if board[0, idx] != 0:\n",
    "            if all(board[:, idx] == board[0, idx]):\n",
    "                return board[0, idx]\n",
    "        if board[idx, 0] != 0:\n",
    "            if all(board[idx, :] == board[idx, 0]):\n",
    "                return board[idx, 0]\n",
    "\n",
    "    if all(board.diagonal() == board[0,0]):\n",
    "        if board[0,0] != 0:\n",
    "            return board[0,0]\n",
    "    if all(np.fliplr(board).diagonal() == board[2,0]):\n",
    "        if board[2,0] != 0:\n",
    "            return board[2,0]\n",
    "        \n",
    "    return 0"
   ]
  },
  {
   "cell_type": "markdown",
   "metadata": {},
   "source": [
    "# Random games with outcome"
   ]
  },
  {
   "cell_type": "code",
   "execution_count": 103,
   "metadata": {},
   "outputs": [
    {
     "name": "stdout",
     "output_type": "stream",
     "text": [
      "Player 1 wins\n"
     ]
    },
    {
     "data": {
      "image/png": "[encoded data removed]",
      "text/plain": [
       "<Figure size 576x396 with 1 Axes>"
      ]
     },
     "metadata": {},
     "output_type": "display_data"
    }
   ],
   "source": [
    "board = np.copy(BOARD)\n",
    "\n",
    "player = 2\n",
    "while len(free_space(board)) > 0:\n",
    "    player = 1 if player==2 else 2\n",
    "\n",
    "    state = get_state(tuple(board.flatten()))\n",
    "    action = policy(None, state, 1)\n",
    "    board[action_space[action]] = player\n",
    "\n",
    "    victor = win_condition(board)\n",
    "    if victor != 0:\n",
    "        print(f\"Player {victor} wins\")\n",
    "        break\n",
    "        \n",
    "else: print(\"Draw\")\n",
    "        \n",
    "tic_tac_toe(board)"
   ]
  },
  {
   "cell_type": "markdown",
   "metadata": {},
   "source": [
    "# Q-learning control"
   ]
  },
  {
   "cell_type": "code",
   "execution_count": 40,
   "metadata": {},
   "outputs": [],
   "source": [
    "def q_learning(Q, s, a, r, s_) -> float:\n",
    "    curr_sa = Q[s][a]\n",
    "    max_a = max(Q[s_][a_] for a_ in action_space)\n",
    "    \n",
    "    return curr_sa + alpha * (r + (gamma*max_a) - curr_sa)\n",
    "\n",
    "def get_score(board:np.ndarray) -> int: \n",
    "    victor = win_condition(board)\n",
    "    if victor == 1:\n",
    "        return 1\n",
    "    elif victor == 2:\n",
    "        return -1\n",
    "    else:\n",
    "        return 0"
   ]
  },
  {
   "cell_type": "code",
   "execution_count": 41,
   "metadata": {},
   "outputs": [
    {
     "name": "stdout",
     "output_type": "stream",
     "text": [
      "{'state': 0, 'action': 5, 'reward': 0, 'next state': 21}\n",
      "{'state': 0, 'action': 2, 'reward': 0, 'next state': 459}\n",
      "{'state': 0, 'action': 1, 'reward': 0, 'next state': 1157}\n",
      "{'state': 0, 'action': 0, 'reward': 1, 'next state': 3165}\n"
     ]
    },
    {
     "data": {
      "image/png": "[encoded data removed]",
      "text/plain": [
       "<Figure size 576x396 with 1 Axes>"
      ]
     },
     "metadata": {},
     "output_type": "display_data"
    }
   ],
   "source": [
    "\"\"\" Single Game \"\"\"\n",
    "\n",
    "alpha = 2e-3\n",
    "epsilon = 0.5\n",
    "gamma = 1\n",
    "\n",
    "state_action_value = np.random.random((len(state_space), 9))\n",
    "\n",
    "board = np.copy(BOARD)\n",
    "state = 0\n",
    "\n",
    "while get_score(board) == 0 and len(free_space(board)) > 0:\n",
    "    action = policy(state_action_value, state)\n",
    "    board[action_space[action]] = 1\n",
    "    if win_condition(board) == 0 and len(free_space(board)) > 0:\n",
    "        board[action_space[policy(None, get_state(tuple(board.flatten())), 1)]] = 2\n",
    "\n",
    "    reward = get_score(board)\n",
    "\n",
    "    next_s = get_state(tuple(board.flatten()))\n",
    "\n",
    "    state_action_value[state][action] = q_learning(state_action_value,\n",
    "                                                  state, action, reward, next_s)\n",
    "\n",
    "    print({\"state\":state, \"action\":action, \"reward\":reward, \"next state\":next_s})\n",
    "    \n",
    "tic_tac_toe(board)"
   ]
  },
  {
   "cell_type": "code",
   "execution_count": 71,
   "metadata": {
    "scrolled": false
   },
   "outputs": [
    {
     "name": "stdout",
     "output_type": "stream",
     "text": [
      "State-action value optimization is 10% done.\n",
      "State-action value optimization is 20% done.\n",
      "State-action value optimization is 30% done.\n",
      "State-action value optimization is 40% done.\n",
      "State-action value optimization is 50% done.\n",
      "State-action value optimization is 60% done.\n",
      "State-action value optimization is 70% done.\n",
      "State-action value optimization is 80% done.\n",
      "State-action value optimization is 90% done.\n",
      "State-action value optimization is 100% done.\n"
     ]
    },
    {
     "data": {
      "image/png": "[encoded data removed]",
      "text/plain": [
       "<Figure size 576x396 with 1 Axes>"
      ]
     },
     "metadata": {},
     "output_type": "display_data"
    }
   ],
   "source": [
    "\"\"\" Training session\"\"\"\n",
    "\n",
    "outcomes = {0: 0, 1: 0, 2: 0}\n",
    "\n",
    "alpha = 0.5\n",
    "epsilon = 0.66\n",
    "gamma = 1\n",
    "\n",
    "state_action_value = np.zeros((len(state_space), 9))\n",
    "\n",
    "num_games = int(1e2)\n",
    "for episode in range(1, num_games+1):\n",
    "    board = np.copy(BOARD)\n",
    "    state = 0\n",
    "\n",
    "    while win_condition(board) == 0 and len(free_space(board)) > 0:\n",
    "        action = policy(state_action_value, state, epsilon)\n",
    "        board[action_space[action]] = 1\n",
    "        \n",
    "        if win_condition(board) == 0 and len(free_space(board)) > 0:\n",
    "            board[action_space[policy(state_action_value, get_state(tuple(board.flatten())), 0)]] = 2\n",
    "\n",
    "        reward = get_score(board)\n",
    "        next_s = get_state(tuple(board.flatten()))\n",
    "        state_action_value[state][action] = q_learning(state_action_value,\n",
    "                                                       state, action, reward, next_s)\n",
    "        state = next_s\n",
    "        \n",
    "    else: outcomes[win_condition(board)] += 1\n",
    "        \n",
    "        \n",
    "    if episode % (num_games//10) == 0:\n",
    "        print(f\"State-action value optimization is {episode / num_games:.0%} done.\")\n",
    "        \n",
    "plt.bar([\"Draw\", \"Agent\", \"BOT\"], outcomes.values())\n",
    "plt.title(\"Outcomes during training\"); plt.show()"
   ]
  },
  {
   "cell_type": "markdown",
   "metadata": {},
   "source": [
    "### Save values for later use"
   ]
  },
  {
   "cell_type": "code",
   "execution_count": 21,
   "metadata": {},
   "outputs": [],
   "source": [
    "np.save(\"tic_tac_toe_1e7.npy\", state_action_value)"
   ]
  },
  {
   "cell_type": "markdown",
   "metadata": {},
   "source": [
    "# Player controlled game loop"
   ]
  },
  {
   "cell_type": "code",
   "execution_count": 72,
   "metadata": {},
   "outputs": [],
   "source": [
    "from IPython.display import clear_output\n",
    "\n",
    "def display(board:np.ndarray, show_states=False) -> None:\n",
    "    \"\"\" Clear and display the updated board with possible actions \"\"\"\n",
    "    \n",
    "    clear_output()\n",
    "    tic_tac_toe(board)\n",
    "    \n",
    "    if show_states:\n",
    "        for action in list(map(lambda pos: action_lookup[pos], zip(*np.where(board==0)))):\n",
    "            state = reversed(action_space[action])\n",
    "            plt.text(*state, action)\n",
    "            \n",
    "    plt.show()"
   ]
  },
  {
   "cell_type": "code",
   "execution_count": 73,
   "metadata": {},
   "outputs": [
    {
     "data": {
      "image/png": "[encoded data removed]",
      "text/plain": [
       "<Figure size 576x396 with 1 Axes>"
      ]
     },
     "metadata": {},
     "output_type": "display_data"
    },
    {
     "name": "stdout",
     "output_type": "stream",
     "text": [
      "Player 2 wins\n"
     ]
    }
   ],
   "source": [
    "board = np.copy(BOARD)\n",
    "state = 0\n",
    "\n",
    "while get_score(board) == 0 and len(free_space(board)) > 0:\n",
    "    action = policy(state_action_value, state, 0)\n",
    "    board[action_space[action]] = 1\n",
    "    \n",
    "    display(board, True)\n",
    "    \n",
    "    if win_condition(board) == 0 and len(free_space(board)) > 0:\n",
    "        while True:\n",
    "            action = int(input(\"Make a move: \"))\n",
    "            if action in list(map(lambda pos: action_lookup[pos], zip(*np.where(board==0)))):\n",
    "                board[action_space[action]] = 2\n",
    "                break\n",
    "                \n",
    "display(board)\n",
    "print(f\"Player {win_condition(board)} wins\")"
   ]
  },
  {
   "cell_type": "markdown",
   "metadata": {},
   "source": [
    "# Adversarial Q-learning control\n",
    "### Due to the random actions of Player 2, our Agent isn't capable of learning real strategy, rather it exploits easy wins. This should be greatly improved by *adversarial play!* where both agents will learn together"
   ]
  },
  {
   "cell_type": "code",
   "execution_count": 74,
   "metadata": {},
   "outputs": [],
   "source": [
    "def get_score(player:int, board:np.ndarray) -> int: \n",
    "    \"\"\" Modified function for 2 players \"\"\"\n",
    "    \n",
    "    victor = win_condition(board)\n",
    "    if victor == 0:\n",
    "        return 0\n",
    "    elif victor == player:\n",
    "        return 1\n",
    "    else:\n",
    "        return -1"
   ]
  },
  {
   "cell_type": "code",
   "execution_count": 280,
   "metadata": {
    "scrolled": false
   },
   "outputs": [
    {
     "name": "stdout",
     "output_type": "stream",
     "text": [
      "State-action value optimization is 10% done.\n",
      "State-action value optimization is 20% done.\n",
      "State-action value optimization is 30% done.\n",
      "State-action value optimization is 40% done.\n",
      "State-action value optimization is 50% done.\n",
      "State-action value optimization is 60% done.\n",
      "State-action value optimization is 70% done.\n",
      "State-action value optimization is 80% done.\n",
      "State-action value optimization is 90% done.\n",
      "State-action value optimization is 100% done.\n"
     ]
    },
    {
     "data": {
      "image/png": "[encoded data removed]",
      "text/plain": [
       "<Figure size 576x396 with 1 Axes>"
      ]
     },
     "metadata": {},
     "output_type": "display_data"
    },
    {
     "name": "stdout",
     "output_type": "stream",
     "text": [
      "8423 states updated.\n"
     ]
    }
   ],
   "source": [
    "\"\"\" Adversarial training \"\"\"\n",
    "\n",
    "outcomes = {0: 0, 1: 0, 2: 0}\n",
    "\n",
    "alpha = 0.5\n",
    "epsilon = 0.66\n",
    "gamma = 1\n",
    "\n",
    "player_1_values = np.zeros((len(state_space), 9))\n",
    "player_2_values = np.zeros((len(state_space), 9))\n",
    "state_action_dict = {\n",
    "    1: player_1_values,\n",
    "    2: player_2_values\n",
    "}\n",
    "\n",
    "num_games = int(1e7)\n",
    "for episode in range(1, num_games+1):\n",
    "    #print(f\"\\nEpisode: {episode}\")\n",
    "    board = np.copy(BOARD)\n",
    "    update = []\n",
    "    player = 2\n",
    "    state = 0\n",
    "    \n",
    "    while win_condition(board) == 0 and len(free_space(board)) > 0:\n",
    "        player = 1 if player==2 else 2\n",
    "        \n",
    "        action = policy(state_action_dict[player], state, epsilon)\n",
    "        board[action_space[action]] = player\n",
    "        next_s = get_state(tuple(board.flatten()))\n",
    "        reward = get_score(player, board)\n",
    "        \n",
    "        if reward > 0: update[3] = -1\n",
    "        if len(update) != 0:\n",
    "            update[4] = next_s\n",
    "            #print({\"player\":update[0], \"state\":update[1], \"action\":update[2], \"reward\":update[3], \"next_s\":update[4]})   \n",
    "            state_action_dict[update[0]][update[1]][update[2]] = q_learning(\n",
    "                state_action_dict[update[0]], *update[1:]\n",
    "            )\n",
    "        \n",
    "        update = [player, state, action, reward, next_s]\n",
    "        \n",
    "        state = next_s\n",
    "        \n",
    "    else: \n",
    "        #print({\"player\":update[0], \"state\":update[1], \"action\":update[2], \"reward\":update[3], \"next_s\":update[4]})\n",
    "        state_action_dict[update[0]][update[1]][update[2]] = q_learning(\n",
    "            state_action_dict[update[0]], *update[1:]\n",
    "        )\n",
    "        \n",
    "        result = win_condition(board)\n",
    "        outcomes[result] += 1\n",
    "        #print(\"Draw game.\" if result==0 else f\"Player {win_condition(board)} wins.\")\n",
    "        \n",
    "    if episode % (num_games//10) == 0:\n",
    "        print(f\"State-action value optimization is {episode / num_games:.0%} done.\")\n",
    "        \n",
    "plt.bar([\"Draw\", \"Player 1\", \"Player 2\"], outcomes.values())\n",
    "plt.title(\"Outcomes during training\"); plt.show()\n",
    "\n",
    "print(len(np.nonzero(player_1_values)[0]), \"states updated.\")"
   ]
  },
  {
   "cell_type": "markdown",
   "metadata": {},
   "source": [
    "## One of the first issues here is that state 0 (empty board) is not being updated\n",
    "\n",
    "#### False, This leads to almost every first action being: an 'O' in position (0,0) because there aren't enough episode played to update the state-action values for that state.\n",
    "\n",
    "- 1e4 episodes: ~2500 updated states | No updates in state 0\n",
    "- 1e5 episodes: ~4800 updated states | No updates in state 0\n",
    "- 1e6 episodes: ~4800 updated states | No updates in state 0\n",
    "\n",
    "#### The real problem was: Q-learning's next state value being set to board state after own move. \n",
    "#### It seems important to set the next state's value after the opponent has made it's move.\n",
    "\n",
    "- 1e4 episodes: ~5000 updated states | All state 0 values updated\n",
    "- 1e5 episodes: ~8300 updated states | All state 0 values updated\n",
    "- 1e6 episodes: ~8400 updated states | All state 0 values updated\n",
    "- 1e6 episodes:  8423 updated states | All state 0 values updated\n",
    "\n",
    "#### !!! Huge note-to-self: In turn based games make sure to: pass correct, delayed successor state to Q-learning (opponents change)"
   ]
  },
  {
   "cell_type": "code",
   "execution_count": 232,
   "metadata": {},
   "outputs": [
    {
     "name": "stdout",
     "output_type": "stream",
     "text": [
      "State:  0\n",
      "[0.99999842 0.9982434  0.96691635 0.97121054 0.98660864 0.99948219\n",
      " 0.94336629 0.9712898  0.99813923]\n",
      "[0. 0. 0. 0. 0. 0. 0. 0. 0.]\n",
      "\n",
      "State:  2123\n",
      "[0. 0. 0. 0. 0. 0. 0. 0. 0.]\n",
      "[0.         0.54115104 0.56379907 0.57033374 0.63447485 0.71308611\n",
      " 0.65969937 0.61080416 0.92021732]\n",
      "\n",
      "State:  750\n",
      "[0. 0. 0. 0. 0. 0. 0. 0. 0.]\n",
      "[0.56409477 0.         0.46922262 0.42302815 0.89310021 0.84972424\n",
      " 0.96158385 0.68655304 0.92357495]\n",
      "\n",
      "State:  267\n",
      "[0. 0. 0. 0. 0. 0. 0. 0. 0.]\n",
      "[0.72220227 0.35881215 0.         0.34604015 0.71660024 0.24743057\n",
      " 0.71473902 0.48563217 0.51332206]\n",
      "\n",
      "State:  96\n",
      "[0. 0. 0. 0. 0. 0. 0. 0. 0.]\n",
      "[0.76496164 0.80923625 0.89776167 0.         0.97374239 0.58887613\n",
      " 0.75989131 0.83626952 0.72254812]\n",
      "\n",
      "State:  35\n",
      "[0. 0. 0. 0. 0. 0. 0. 0. 0.]\n",
      "[0.37872771 0.64509218 0.50600366 0.48429375 0.         0.40057764\n",
      " 0.73331776 0.62333004 0.27713502]\n",
      "\n",
      "State:  13\n",
      "[0. 0. 0. 0. 0. 0. 0. 0. 0.]\n",
      "[0.82319403 0.36884677 0.70213598 0.41147353 0.70690966 0.\n",
      " 0.95542673 0.71793877 0.76801808]\n",
      "\n",
      "State:  5\n",
      "[0. 0. 0. 0. 0. 0. 0. 0. 0.]\n",
      "[0.4180145  0.35243071 0.82534751 0.54723233 0.82610945 0.69045518\n",
      " 0.         0.4649     0.70481425]\n",
      "\n",
      "State:  2\n",
      "[0. 0. 0. 0. 0. 0. 0. 0. 0.]\n",
      "[0.63020276 0.59159517 0.52766298 0.82251293 0.82516797 0.27977703\n",
      " 0.6315964  0.         0.81936029]\n",
      "\n",
      "State:  1\n",
      "[0. 0. 0. 0. 0. 0. 0. 0. 0.]\n",
      "[0.56115131 0.59553986 0.64441152 0.48580555 0.59961199 0.47280209\n",
      " 0.61704675 0.52252316 0.        ]\n",
      "\n"
     ]
    }
   ],
   "source": [
    "\"\"\" Debugging Adversarial Q-learning control:\n",
    "    Checking state-action values for all possible opener moves \"\"\"\n",
    "\n",
    "print(\"State: \", 0)\n",
    "print(player_1_values[0])\n",
    "print(player_2_values[0])\n",
    "print()\n",
    "    \n",
    "for idx in range(9):\n",
    "    board = np.copy(BOARD)\n",
    "    board[idx//3, idx%3] = 1\n",
    "    state = get_state(tuple(board.flatten()))\n",
    "    print(\"State: \", state)\n",
    "    print(player_1_values[state])\n",
    "    print(player_2_values[state])\n",
    "    print()"
   ]
  },
  {
   "cell_type": "code",
   "execution_count": 281,
   "metadata": {},
   "outputs": [],
   "source": [
    "np.save(\"tic_tac_toe_1e7_maker.npy\",   player_1_values)\n",
    "np.save(\"tic_tac_toe_1e7_breaker.npy\", player_2_values)"
   ]
  },
  {
   "cell_type": "code",
   "execution_count": 75,
   "metadata": {},
   "outputs": [],
   "source": [
    "player_1_values = np.load(\"tic_tac_toe_1e6_maker.npy\")\n",
    "player_2_values = np.load(\"tic_tac_toe_1e6_breaker.npy\")"
   ]
  },
  {
   "cell_type": "markdown",
   "metadata": {},
   "source": [
    "# Play testing as player 2 (breaker)"
   ]
  },
  {
   "cell_type": "code",
   "execution_count": 107,
   "metadata": {},
   "outputs": [
    {
     "data": {
      "image/png": "[encoded data removed]",
      "text/plain": [
       "<Figure size 576x396 with 1 Axes>"
      ]
     },
     "metadata": {},
     "output_type": "display_data"
    },
    {
     "name": "stdout",
     "output_type": "stream",
     "text": [
      "Player 1 wins!\n"
     ]
    }
   ],
   "source": [
    "board = np.copy(BOARD)\n",
    "state = 0\n",
    "\n",
    "while win_condition(board) == 0 and len(free_space(board)) > 0:\n",
    "    action = policy(player_1_values, state, 0)\n",
    "    board[action_space[action]] = 1\n",
    "    \n",
    "    display(board, True)\n",
    "    \n",
    "    if win_condition(board) == 0 and len(free_space(board)) > 0:\n",
    "        while True:\n",
    "            action = int(input(\"Make a move: \"))\n",
    "            if action in list(map(lambda pos: action_lookup[pos], zip(*np.where(board==0)))):\n",
    "                board[action_space[action]] = 2\n",
    "                break\n",
    "                \n",
    "    state = get_state(tuple(board.flatten()))\n",
    "                \n",
    "display(board)\n",
    "\n",
    "result = win_condition(board)\n",
    "print(f\"Player {result} wins!\" if result!=0 else \"Game draw!\")"
   ]
  },
  {
   "cell_type": "markdown",
   "metadata": {},
   "source": [
    "# Play testing as player 1 (maker)"
   ]
  },
  {
   "cell_type": "code",
   "execution_count": 109,
   "metadata": {},
   "outputs": [
    {
     "data": {
      "image/png": "[encoded data removed]",
      "text/plain": [
       "<Figure size 576x396 with 1 Axes>"
      ]
     },
     "metadata": {},
     "output_type": "display_data"
    },
    {
     "name": "stdout",
     "output_type": "stream",
     "text": [
      "Player 1 wins!\n"
     ]
    }
   ],
   "source": [
    "board = np.copy(BOARD)\n",
    "\n",
    "while win_condition(board) == 0 and len(free_space(board)) > 0:\n",
    "    display(board, True)\n",
    "    \n",
    "    while True:\n",
    "        action = int(input(\"Make a move: \"))\n",
    "        if action in list(map(lambda pos: action_lookup[pos], zip(*np.where(board==0)))):\n",
    "            board[action_space[action]] = 2\n",
    "            break\n",
    "            \n",
    "    board[action_space[action]] = 1\n",
    "    state = get_state(tuple(board.flatten()))\n",
    "    \n",
    "    if win_condition(board) == 0 and len(free_space(board)) > 0:\n",
    "        action = policy(player_2_values, state, 0)\n",
    "        board[action_space[action]] = 2\n",
    "                \n",
    "display(board)\n",
    "\n",
    "result = win_condition(board)\n",
    "print(f\"Player {result} wins!\" if result!=0 else \"Game draw!\")"
   ]
  },
  {
   "cell_type": "markdown",
   "metadata": {},
   "source": [
    "## After only 1e6 episodes both Maker & Breaker agents are 'almost' undefeatable\n",
    "\n",
    "#### I was only able to beat the Breaker by applying the Maker's strategies because I suck at this game"
   ]
  }
 ],
 "metadata": {
  "kernelspec": {
   "display_name": "Python 3",
   "language": "python",
   "name": "python3"
  },
  "language_info": {
   "codemirror_mode": {
    "name": "ipython",
    "version": 3
   },
   "file_extension": ".py",
   "mimetype": "text/x-python",
   "name": "python",
   "nbconvert_exporter": "python",
   "pygments_lexer": "ipython3",
   "version": "3.8.5"
  }
 },
 "nbformat": 4,
 "nbformat_minor": 4
}
